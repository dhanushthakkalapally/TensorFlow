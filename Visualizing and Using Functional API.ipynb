{
 "cells": [
  {
   "cell_type": "markdown",
   "metadata": {},
   "source": [
    "# Visualizing Using TensorBoard And Buliding Model Using Keras Functional API"
   ]
  },
  {
   "cell_type": "code",
   "execution_count": 8,
   "metadata": {},
   "outputs": [],
   "source": [
    "# importing the modules required\n",
    "import tensorflow as tf\n",
    "import keras as keras\n",
    "import matplotlib.pyplot as plt"
   ]
  },
  {
   "cell_type": "code",
   "execution_count": 2,
   "metadata": {},
   "outputs": [],
   "source": [
    "# Loading data from keras dataset\n",
    "data = keras.datasets.mnist"
   ]
  },
  {
   "cell_type": "code",
   "execution_count": 3,
   "metadata": {},
   "outputs": [],
   "source": [
    "# load data\n",
    "data = data.load_data()"
   ]
  },
  {
   "cell_type": "code",
   "execution_count": 4,
   "metadata": {},
   "outputs": [],
   "source": [
    "X_train,y_train,X_test,y_test = data[0][0] , data[0][1], data[1][0],data[1][1]"
   ]
  },
  {
   "cell_type": "code",
   "execution_count": 5,
   "metadata": {},
   "outputs": [
    {
     "data": {
      "text/plain": [
       "(60000, 28, 28)"
      ]
     },
     "execution_count": 5,
     "metadata": {},
     "output_type": "execute_result"
    }
   ],
   "source": [
    "# there are 60000 images in the train set and are of shape 28X28 pixels \n",
    "X_train.shape"
   ]
  },
  {
   "cell_type": "code",
   "execution_count": 7,
   "metadata": {},
   "outputs": [
    {
     "data": {
      "text/plain": [
       "(10000, 28, 28)"
      ]
     },
     "execution_count": 7,
     "metadata": {},
     "output_type": "execute_result"
    }
   ],
   "source": [
    "# There are 10000 images in the test set and are of shape 28X28\n",
    "X_test.shape"
   ]
  },
  {
   "cell_type": "code",
   "execution_count": 12,
   "metadata": {},
   "outputs": [
    {
     "data": {
      "image/png": "[encoded data removed]",
      "text/plain": [
       "<Figure size 432x288 with 1 Axes>"
      ]
     },
     "metadata": {
      "needs_background": "light"
     },
     "output_type": "display_data"
    }
   ],
   "source": [
    "# Sample \n",
    "plt.imshow(X_train[0],cmap = 'gray')\n",
    "plt.show()"
   ]
  },
  {
   "cell_type": "markdown",
   "metadata": {},
   "source": [
    "<p style = 'color:red'>we can plot the same image using tensorboard we just need to log the image data into event files and point the tensor board to that location</p>\n",
    "<p style = 'color:blue'>Tensor board excepts an image of shape:(batch_size,height,width,channels) so we need to reshape this 28X28 image to (1,28,28,1) image</p>"
   ]
  },
  {
   "cell_type": "code",
   "execution_count": 42,
   "metadata": {},
   "outputs": [],
   "source": [
    "import time\n",
    "import numpy as np\n",
    "import os\n",
    "path = os.path.join(os.curdir,'myLog')\n",
    "def get_log_dir(name):\n",
    "    dir = time.strftime(name+'_%Y_%M_%d_%H_%M_%S')\n",
    "    return os.path.join(path,dir) \n",
    "\n",
    "# to this directory we are going to log the current image evnet file \n",
    "logdir = get_log_dir('image1')\n",
    "file_writer = tf.summary.create_file_writer(logdir)"
   ]
  },
  {
   "cell_type": "code",
   "execution_count": 43,
   "metadata": {},
   "outputs": [],
   "source": [
    "# This line will reshape the image and store the image event file in the sepecified directory\n",
    "img=X_train[0].reshape(1,28,28,1)\n",
    "# opens the file and writes the image into the file\n",
    "with file_writer.as_default():\n",
    "    tf.summary.image('image:',img,step = 0) "
   ]
  },
  {
   "cell_type": "markdown",
   "metadata": {},
   "source": [
    "<p style='color:#3872a2'>Now we can move to command line and use command <strong style='color:orange'> tensorboard --logdir=directory_name </strong>where the log files are stored then launch tensorboard then we can view the image in the dash board</p>"
   ]
  },
  {
   "cell_type": "markdown",
   "metadata": {},
   "source": [
    "<h3 style:'color:red'> Viewing multiple images using tensorboard</h3>"
   ]
  },
  {
   "cell_type": "code",
   "execution_count": 44,
   "metadata": {},
   "outputs": [],
   "source": [
    "images = X_train[:10]\n",
    "images = images.reshape(10,28,28,1)\n",
    "log_dir=get_log_dir('image2')\n",
    "file_writer = tf.summary.create_file_writer(log_dir)\n",
    "with file_writer.as_default():\n",
    "    tf.summary.image('firt 10 images',images,max_outputs=10,step=0)\n",
    "# using this we can view multiple images in the "
   ]
  },
  {
   "cell_type": "markdown",
   "metadata": {},
   "source": [
    "<h2 style='color:red'>Functional API</h2>"
   ]
  },
  {
   "cell_type": "markdown",
   "metadata": {},
   "source": [
    "<p style='color:#3872a2'>Creating a Model Using functional API . Keras Functional Api gives lot of flexiblity in creating cutom models that are not possible with Sequential API , we can build complex models that are not in sequence for instance we can pass two different inputs etc..</p>"
   ]
  },
  {
   "cell_type": "code",
   "execution_count": 49,
   "metadata": {},
   "outputs": [],
   "source": [
    "# splliting the data into test and train set \n",
    "from sklearn.model_selection import train_test_split\n",
    "X_train,X_cv,y_train,y_test = train_test_split(X_train,y_train,test_size=.25,random_state=42)"
   ]
  },
  {
   "cell_type": "code",
   "execution_count": 46,
   "metadata": {},
   "outputs": [],
   "source": [
    "# input layer\n",
    "input1 = keras.layers.Input(shape = [28,28,1])\n",
    "layer1 = keras.layers.Conv2D(64,5,activation = 'relu',padding = 'same')(input1)\n",
    "layer2 = keras.layers.MaxPool2D(2)\n",
    "layer2 = layer2(layer1)\n",
    "layer3 = keras.layers.Conv2D(128,3,activation = 'relu',padding = 'same')\n",
    "layer3 = layer3(layer2)\n",
    "layer4 = keras.layers.GlobalAvgPool2D()(layer3)\n",
    "layer5 = keras.layers.Flatten()(layer4)\n",
    "layer6 = keras.layers.concatenate([layer5,keras.layers.Flatten()(input1)])\n",
    "layer7 = keras.layers.Dense(128,activation='relu')(layer6)\n",
    "output = keras.layers.Dense(10,activation='softmax')(layer7)\n",
    "model = keras.Model(inputs=[input1] , outputs =[output])"
   ]
  },
  {
   "cell_type": "markdown",
   "metadata": {},
   "source": [
    "<h3 style='color:red'>MODEL:</h3>\n",
    "    <ul style='color:#3872a2'><li>First we are creating an input layer of size of <span style='color:orange'>shape:(height,width,channels)</span></li>\n",
    "<li>Then a Conv2d is created and with a filter of shape <span style='color:orange'>shape:5X5</span> and 64 feature maps</li>\n",
    "    <li>The the output of layer2 is created and output of the layer1 is sent as input to the Maxpooling layer where the image size will be cutdown by half of <span style='color:orange'>shape:(14,14,64)</span></li>\n",
    "    <li>There after a new Convolutional layer is created and the output of the layer3 is passed as input to these layer in these layer 128 feature maps are generated </li>\n",
    "    \n",
    "</ul>"
   ]
  },
  {
   "cell_type": "code",
   "execution_count": 53,
   "metadata": {},
   "outputs": [
    {
     "name": "stdout",
     "output_type": "stream",
     "text": [
      "Model: \"model\"\n",
      "__________________________________________________________________________________________________\n",
      "Layer (type)                    Output Shape         Param #     Connected to                     \n",
      "==================================================================================================\n",
      "input_1 (InputLayer)            [(None, 28, 28, 1)]  0                                            \n",
      "__________________________________________________________________________________________________\n",
      "conv2d (Conv2D)                 (None, 28, 28, 64)   1664        input_1[0][0]                    \n",
      "__________________________________________________________________________________________________\n",
      "max_pooling2d (MaxPooling2D)    (None, 14, 14, 64)   0           conv2d[0][0]                     \n",
      "__________________________________________________________________________________________________\n",
      "conv2d_1 (Conv2D)               (None, 14, 14, 128)  73856       max_pooling2d[0][0]              \n",
      "__________________________________________________________________________________________________\n",
      "global_average_pooling2d (Globa (None, 128)          0           conv2d_1[0][0]                   \n",
      "__________________________________________________________________________________________________\n",
      "flatten (Flatten)               (None, 128)          0           global_average_pooling2d[0][0]   \n",
      "__________________________________________________________________________________________________\n",
      "flatten_1 (Flatten)             (None, 784)          0           input_1[0][0]                    \n",
      "__________________________________________________________________________________________________\n",
      "concatenate (Concatenate)       (None, 912)          0           flatten[0][0]                    \n",
      "                                                                 flatten_1[0][0]                  \n",
      "__________________________________________________________________________________________________\n",
      "dense (Dense)                   (None, 128)          116864      concatenate[0][0]                \n",
      "__________________________________________________________________________________________________\n",
      "dense_1 (Dense)                 (None, 10)           1290        dense[0][0]                      \n",
      "==================================================================================================\n",
      "Total params: 193,674\n",
      "Trainable params: 193,674\n",
      "Non-trainable params: 0\n",
      "__________________________________________________________________________________________________\n"
     ]
    }
   ],
   "source": [
    "model.summary()"
   ]
  },
  {
   "cell_type": "markdown",
   "metadata": {},
   "source": [
    "<h3 style='color:red'>Call Backs</h3>"
   ]
  },
  {
   "cell_type": "markdown",
   "metadata": {},
   "source": [
    "<p style='color:#3872a2'>Using tensorflow we can create a call backs then tensor flow calls this functions while at the start of the epoch or after each training step or end of training based on our configuration and excutes the function we specified . Using callbacks we can perfom tasks like saving the model , writing event files to the tensorflow files etc..</p>"
   ]
  },
  {
   "cell_type": "code",
   "execution_count": 60,
   "metadata": {},
   "outputs": [],
   "source": [
    "callback = keras.callbacks.TensorBoard(get_log_dir('train'),histogram_freq=1)"
   ]
  },
  {
   "cell_type": "code",
   "execution_count": 61,
   "metadata": {},
   "outputs": [],
   "source": [
    "model.compile(loss='sparse_categorical_crossentropy',metrics = 'accuracy', optimizer = 'adam')"
   ]
  },
  {
   "cell_type": "code",
   "execution_count": 62,
   "metadata": {
    "scrolled": true
   },
   "outputs": [
    {
     "name": "stdout",
     "output_type": "stream",
     "text": [
      "Epoch 1/5\n",
      "1407/1407 [==============================] - 96s 68ms/step - loss: 3.1088 - accuracy: 0.8556 - val_loss: 0.0000e+00 - val_accuracy: 0.0000e+00\n",
      "Epoch 2/5\n",
      "1407/1407 [==============================] - 97s 69ms/step - loss: 0.4045 - accuracy: 0.9052 - val_loss: 0.0000e+00 - val_accuracy: 0.0000e+00\n",
      "Epoch 3/5\n",
      "1407/1407 [==============================] - 99s 71ms/step - loss: 0.3003 - accuracy: 0.9290 - val_loss: 0.0000e+00 - val_accuracy: 0.0000e+00\n",
      "Epoch 4/5\n",
      "1407/1407 [==============================] - 96s 68ms/step - loss: 0.2359 - accuracy: 0.9419 - val_loss: 0.0000e+00 - val_accuracy: 0.0000e+00\n",
      "Epoch 5/5\n",
      "1407/1407 [==============================] - 99s 71ms/step - loss: 0.2057 - accuracy: 0.9504 - val_loss: 0.0000e+00 - val_accuracy: 0.0000e+00\n"
     ]
    },
    {
     "data": {
      "text/plain": [
       "<tensorflow.python.keras.callbacks.History at 0x1f4ce121e08>"
      ]
     },
     "execution_count": 62,
     "metadata": {},
     "output_type": "execute_result"
    }
   ],
   "source": [
    "model.fit(X_train,y_train,epochs=5,validation_data =[X_cv,y_test],callbacks=[callback])"
   ]
  },
  {
   "cell_type": "code",
   "execution_count": 24,
   "metadata": {},
   "outputs": [],
   "source": [
    "X_train = X_train.reshape(60000,28,28,1)"
   ]
  },
  {
   "cell_type": "code",
   "execution_count": 64,
   "metadata": {},
   "outputs": [
    {
     "data": {
      "text/plain": [
       "(15000,)"
      ]
     },
     "execution_count": 64,
     "metadata": {},
     "output_type": "execute_result"
    }
   ],
   "source": [
    "y_test.shape"
   ]
  },
  {
   "cell_type": "code",
   "execution_count": 65,
   "metadata": {},
   "outputs": [
    {
     "data": {
      "text/plain": [
       "(15000, 28, 28)"
      ]
     },
     "execution_count": 65,
     "metadata": {},
     "output_type": "execute_result"
    }
   ],
   "source": [
    "X_cv.shape"
   ]
  },
  {
   "cell_type": "markdown",
   "metadata": {},
   "source": []
  },
  {
   "cell_type": "code",
   "execution_count": null,
   "metadata": {},
   "outputs": [],
   "source": []
  }
 ],
 "metadata": {
  "kernelspec": {
   "display_name": "Python 3",
   "language": "python",
   "name": "python3"
  },
  "language_info": {
   "codemirror_mode": {
    "name": "ipython",
    "version": 3
   },
   "file_extension": ".py",
   "mimetype": "text/x-python",
   "name": "python",
   "nbconvert_exporter": "python",
   "pygments_lexer": "ipython3",
   "version": "3.7.6"
  }
 },
 "nbformat": 4,
 "nbformat_minor": 4
}
